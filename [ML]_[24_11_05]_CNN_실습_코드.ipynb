{
  "cells": [
    {
      "cell_type": "markdown",
      "metadata": {
        "id": "view-in-github",
        "colab_type": "text"
      },
      "source": [
        "<a href=\"https://colab.research.google.com/github/HyeongJun02/STUDY-MachineLearning/blob/main/%5BML%5D_%5B24_11_05%5D_CNN_%EC%8B%A4%EC%8A%B5_%EC%BD%94%EB%93%9C.ipynb\" target=\"_parent\"><img src=\"https://colab.research.google.com/assets/colab-badge.svg\" alt=\"Open In Colab\"/></a>"
      ]
    },
    {
      "cell_type": "markdown",
      "metadata": {
        "id": "e8CW-ldez0bV"
      },
      "source": [
        "## 패키지 선언"
      ]
    },
    {
      "cell_type": "code",
      "execution_count": null,
      "metadata": {
        "id": "8y9SBNBvz989"
      },
      "outputs": [],
      "source": [
        "import torch\n",
        "import torch.nn as nn\n",
        "import numpy as np\n",
        "import torchvision.datasets as dataset\n",
        "import torchvision.transforms as transform\n",
        "from torch.utils.data import DataLoader"
      ]
    },
    {
      "cell_type": "markdown",
      "metadata": {
        "id": "N82EIvOzR4YJ"
      },
      "source": [
        "## ------------------------- Convolution layer 실습 -------------------------"
      ]
    },
    {
      "cell_type": "markdown",
      "metadata": {
        "id": "fpXtQpwHTcmG"
      },
      "source": [
        "*   Convolution layer --> nn.Conv2d(in_channels, out_channels, kernel_size, stride, padding)\n",
        "*   layer = [3 x 3 x 1] x 1, s1, p0\n",
        "\n",
        "\n"
      ]
    },
    {
      "cell_type": "code",
      "execution_count": null,
      "metadata": {
        "id": "gp0tS471SVC_",
        "colab": {
          "base_uri": "https://localhost:8080/"
        },
        "outputId": "c4667617-cbc9-40cf-d843-0202259aa61c"
      },
      "outputs": [
        {
          "output_type": "stream",
          "name": "stdout",
          "text": [
            "torch.Size([1, 1, 5, 5])\n",
            "tensor([[[[0.2795, 0.3491, 0.1132, 0.4398, 0.8590],\n",
            "          [0.5951, 0.1469, 0.7789, 0.2718, 0.3717],\n",
            "          [0.9062, 0.0820, 0.6092, 0.1358, 0.9667],\n",
            "          [0.0110, 0.8412, 0.1882, 0.1073, 0.5206],\n",
            "          [0.7959, 0.7258, 0.5337, 0.3573, 0.3461]]]])\n"
          ]
        }
      ],
      "source": [
        "# 테스트 입력 텐서 생성\n",
        "test_tensor = torch.rand(1, 1, 5, 5) # Batch size, Channel, Height, Width\n",
        "print(test_tensor.size())\n",
        "print(test_tensor)"
      ]
    },
    {
      "cell_type": "code",
      "execution_count": null,
      "metadata": {
        "id": "AMPGp1oWR4HZ"
      },
      "outputs": [],
      "source": [
        "class testModel_channel1 (nn.Module):\n",
        "  def __init__(self):\n",
        "    super(testModel_channel1, self).__init__()\n",
        "\n",
        "    self.conv = nn.Conv2d(in_channels=1, out_channels=1, kernel_size=3, stride=1, padding=0)\n",
        "\n",
        "  def forward(self, x):\n",
        "\n",
        "    # run code\n",
        "    y = self.conv(x)\n",
        "\n",
        "    return y"
      ]
    },
    {
      "cell_type": "code",
      "execution_count": null,
      "metadata": {
        "id": "pI9m-twETBVf",
        "colab": {
          "base_uri": "https://localhost:8080/"
        },
        "outputId": "471b5770-948c-4c93-86eb-a7b960e36e89"
      },
      "outputs": [
        {
          "output_type": "stream",
          "name": "stdout",
          "text": [
            "torch.Size([1, 1, 3, 3])\n",
            "tensor([[[[-0.3424, -0.1388, -0.4072],\n",
            "          [-0.6250, -0.2427, -0.3573],\n",
            "          [-0.4912, -0.4979, -0.5087]]]], grad_fn=<ConvolutionBackward0>)\n"
          ]
        }
      ],
      "source": [
        "model = testModel_channel1()\n",
        "out = model(test_tensor)\n",
        "print(out.size())\n",
        "print(out)"
      ]
    },
    {
      "cell_type": "markdown",
      "metadata": {
        "id": "08G4b_J-Tls4"
      },
      "source": [
        "*   layer = [5 x 5 x 6] x 16, s1, p0"
      ]
    },
    {
      "cell_type": "code",
      "execution_count": null,
      "metadata": {
        "id": "r_JQvI6QTatg"
      },
      "outputs": [],
      "source": [
        "test_tensor = torch.rand(1, 6, 32, 32)"
      ]
    },
    {
      "cell_type": "code",
      "execution_count": null,
      "metadata": {
        "id": "Yh6F4OQaTxg_"
      },
      "outputs": [],
      "source": [
        "class testModel_channel6 (nn.Module):\n",
        "  def __init__(self):\n",
        "    super(testModel_channel6, self).__init__()\n",
        "\n",
        "    self.conv = nn.Conv2d(in_channels=6, out_channels=16, kernel_size=5, stride=1, padding=0)\n",
        "\n",
        "  def forward(self, x):\n",
        "\n",
        "    # run code\n",
        "    y = self.conv(x)\n",
        "\n",
        "    return y"
      ]
    },
    {
      "cell_type": "code",
      "execution_count": null,
      "metadata": {
        "id": "NcrsS3WSTyb7",
        "colab": {
          "base_uri": "https://localhost:8080/"
        },
        "outputId": "7c671e6f-9c49-4625-b455-f0707ba7d851"
      },
      "outputs": [
        {
          "output_type": "stream",
          "name": "stdout",
          "text": [
            "torch.Size([1, 16, 28, 28])\n"
          ]
        }
      ],
      "source": [
        "model = testModel_channel6()\n",
        "out = model(test_tensor)\n",
        "print(out.size())"
      ]
    },
    {
      "cell_type": "markdown",
      "metadata": {
        "id": "cNQxye7LVHsx"
      },
      "source": [
        "### 3 Convolution layer\n",
        "*   layer 1: [3 x 3 x 1] x 32, s1, p1\n",
        "*   layer 2: [3 x 3 x 32] x 64, s1, p1\n",
        "*   layer 3: [3 x 3 x 64] x 128, s1, p1"
      ]
    },
    {
      "cell_type": "code",
      "execution_count": null,
      "metadata": {
        "id": "99nQSOswViKx"
      },
      "outputs": [],
      "source": [
        "test_tensor = torch.rand(1, 1, 32, 32)"
      ]
    },
    {
      "cell_type": "code",
      "execution_count": null,
      "metadata": {
        "id": "SA9xv01rVlC3"
      },
      "outputs": [],
      "source": [
        "class testModel_layer3 (nn.Module):\n",
        "  def __init__(self):\n",
        "    super(testModel_layer3, self).__init__()\n",
        "\n",
        "    self.conv1 = nn.Conv2d(in_channels=1, out_channels=32, kernel_size=3, stride=1, padding=1)\n",
        "    self.conv2 = nn.Conv2d(in_channels=32, out_channels=64, kernel_size=3, stride=1, padding=1)\n",
        "    self.conv3 = nn.Conv2d(in_channels=64, out_channels=128, kernel_size=3, stride=1, padding=1)\n",
        "\n",
        "  def forward(self, x):\n",
        "\n",
        "    # run code\n",
        "    y = self.conv1(x)\n",
        "    y = self.conv2(y)\n",
        "    y = self.conv3(y)\n",
        "\n",
        "    return y"
      ]
    },
    {
      "cell_type": "code",
      "execution_count": null,
      "metadata": {
        "id": "JpIPWkOiVtSW",
        "colab": {
          "base_uri": "https://localhost:8080/"
        },
        "outputId": "e05e3f05-790a-4452-efcc-4603b19046c9"
      },
      "outputs": [
        {
          "output_type": "stream",
          "name": "stdout",
          "text": [
            "torch.Size([1, 128, 32, 32])\n"
          ]
        }
      ],
      "source": [
        "model = testModel_layer3()\n",
        "out = model(test_tensor)\n",
        "print(out.size())"
      ]
    },
    {
      "cell_type": "markdown",
      "metadata": {
        "id": "GR_U88pzmA1Z"
      },
      "source": [
        "## ------------------------- LeNet 실습 -------------------------"
      ]
    },
    {
      "cell_type": "markdown",
      "metadata": {
        "id": "xIZvkTTVz_We"
      },
      "source": [
        "## Dataset 선언"
      ]
    },
    {
      "cell_type": "code",
      "execution_count": null,
      "metadata": {
        "id": "22hst1Gx0DPK",
        "colab": {
          "base_uri": "https://localhost:8080/"
        },
        "outputId": "949e69bd-5c2d-4759-ed29-7425fd25cda4"
      },
      "outputs": [
        {
          "output_type": "stream",
          "name": "stdout",
          "text": [
            "Downloading https://www.cs.toronto.edu/~kriz/cifar-10-python.tar.gz to ./cifar-10-python.tar.gz\n"
          ]
        },
        {
          "output_type": "stream",
          "name": "stderr",
          "text": [
            "100%|██████████| 170M/170M [00:04<00:00, 41.3MB/s]\n"
          ]
        },
        {
          "output_type": "stream",
          "name": "stdout",
          "text": [
            "Extracting ./cifar-10-python.tar.gz to ./\n",
            "Files already downloaded and verified\n"
          ]
        }
      ],
      "source": [
        "# Training dataset 다운로드\n",
        "cifar10_train = dataset.CIFAR10(root = \"./\", # 데이터셋을 저장할 위치\n",
        "                            train = True,\n",
        "                            transform = transform.ToTensor(),\n",
        "                            download = True)\n",
        "# Testing dataset 다운로드\n",
        "cifar10_test = dataset.CIFAR10(root = \"./\",\n",
        "                            train = False,\n",
        "                            transform = transform.ToTensor(),\n",
        "                            download = True)"
      ]
    },
    {
      "cell_type": "markdown",
      "metadata": {
        "id": "ARS1c9CD0ElD"
      },
      "source": [
        "## CIFAR10 데이터셋 형상 확인"
      ]
    },
    {
      "cell_type": "code",
      "execution_count": null,
      "metadata": {
        "id": "FZdigwTg0GnB",
        "colab": {
          "base_uri": "https://localhost:8080/",
          "height": 484
        },
        "outputId": "ddb941ee-256e-45ba-e614-465912dfce9d"
      },
      "outputs": [
        {
          "output_type": "stream",
          "name": "stdout",
          "text": [
            "50000\n",
            "torch.Size([3, 32, 32])\n",
            "9\n"
          ]
        },
        {
          "output_type": "display_data",
          "data": {
            "text/plain": [
              "<Figure size 640x480 with 1 Axes>"
            ],
            "image/png": "[encoded data removed]"
          },
          "metadata": {}
        }
      ],
      "source": [
        "from matplotlib import pyplot as plt\n",
        "print(len(cifar10_train))     # training dataset 개수 확인\n",
        "\n",
        "first_data = cifar10_train[1]\n",
        "print(first_data[0].shape)  # 두번째 data의 형상 확인\n",
        "print(first_data[1])        # 두번째 data의 정답 확인\n",
        "\n",
        "\n",
        "plt.imshow(first_data[0].permute(1, 2, 0))\n",
        "plt.show()"
      ]
    },
    {
      "cell_type": "markdown",
      "metadata": {
        "id": "AyHBDzjhfHbN"
      },
      "source": [
        "## 비교용 MLP 모델 정의"
      ]
    },
    {
      "cell_type": "code",
      "execution_count": null,
      "metadata": {
        "id": "lFgHfPURfHbN"
      },
      "outputs": [],
      "source": [
        "class TestMLP (nn.Module):\n",
        "  def __init__ (self):\n",
        "    super(TestMLP, self).__init__()\n",
        "\n",
        "    # self.fc1 = nn.Linear(3072, 1024)\n",
        "    self.fc1 = nn.Linear(3*32*32, 1024)\n",
        "    self.fc2 = nn.Linear(1024, 10)\n",
        "    self.sigmoid = nn.Sigmoid()\n",
        "\n",
        "\n",
        "  def forward(self, x):\n",
        "    x = x.reshape(-1, 3072)\n",
        "    y = self.sigmoid(self.fc1(x))\n",
        "    y = self.fc2(y)\n",
        "\n",
        "    return y"
      ]
    },
    {
      "cell_type": "markdown",
      "metadata": {
        "id": "N9h-EcVWfHbN"
      },
      "source": [
        "## Training"
      ]
    },
    {
      "cell_type": "code",
      "execution_count": null,
      "metadata": {
        "id": "9PmCDZwOfHbN",
        "colab": {
          "base_uri": "https://localhost:8080/"
        },
        "outputId": "47b9144a-199b-44f6-8d7a-49e2c30b55f5"
      },
      "outputs": [
        {
          "output_type": "stream",
          "name": "stdout",
          "text": [
            "Epoch: 1 Loss = 2.073821\n",
            "Epoch: 2 Loss = 1.879054\n",
            "Epoch: 3 Loss = 1.823221\n",
            "Epoch: 4 Loss = 1.784418\n",
            "Epoch: 5 Loss = 1.742712\n",
            "Epoch: 6 Loss = 1.707418\n",
            "Epoch: 7 Loss = 1.674510\n",
            "Epoch: 8 Loss = 1.646480\n",
            "Epoch: 9 Loss = 1.620029\n",
            "Epoch: 10 Loss = 1.600944\n",
            "Epoch: 11 Loss = 1.579939\n",
            "Epoch: 12 Loss = 1.558253\n",
            "Epoch: 13 Loss = 1.537746\n",
            "Epoch: 14 Loss = 1.525468\n",
            "Epoch: 15 Loss = 1.506970\n",
            "Epoch: 16 Loss = 1.497290\n",
            "Epoch: 17 Loss = 1.478739\n",
            "Epoch: 18 Loss = 1.467434\n",
            "Epoch: 19 Loss = 1.454694\n",
            "Epoch: 20 Loss = 1.440047\n",
            "Epoch: 21 Loss = 1.430228\n",
            "Epoch: 22 Loss = 1.415485\n",
            "Epoch: 23 Loss = 1.403751\n",
            "Epoch: 24 Loss = 1.393127\n",
            "Epoch: 25 Loss = 1.382593\n",
            "Epoch: 26 Loss = 1.374307\n",
            "Epoch: 27 Loss = 1.359754\n",
            "Epoch: 28 Loss = 1.350632\n",
            "Epoch: 29 Loss = 1.342448\n",
            "Epoch: 30 Loss = 1.331566\n",
            "Learning finished\n"
          ]
        }
      ],
      "source": [
        "batch_size = 100\n",
        "learning_rate = 0.1\n",
        "training_epochs = 30\n",
        "loss_function = nn.CrossEntropyLoss()\n",
        "network = TestMLP()\n",
        "optimizer = torch.optim.SGD(network.parameters(), lr = learning_rate)\n",
        "data_loader = DataLoader(dataset=cifar10_train,\n",
        "                         batch_size=batch_size,\n",
        "                         shuffle=True,\n",
        "                         drop_last=True)\n",
        "\n",
        "device = 'cpu'\n",
        "if torch.cuda.is_available():\n",
        "    device = 'cuda:0'\n",
        "\n",
        "network = network.to(device)\n",
        "for epoch in range(training_epochs):\n",
        "  avg_cost = 0\n",
        "  total_batch = len(data_loader)\n",
        "\n",
        "  for img, label in data_loader:\n",
        "\n",
        "    img = img.to(device)\n",
        "    label = label.to(device)\n",
        "\n",
        "    pred = network(img)\n",
        "\n",
        "    loss = loss_function(pred, label)\n",
        "    optimizer.zero_grad() # gradient 초기화\n",
        "    loss.backward()\n",
        "    optimizer.step()\n",
        "\n",
        "    avg_cost += loss / total_batch\n",
        "\n",
        "  print('Epoch: %d Loss = %f'%(epoch+1, avg_cost))\n",
        "\n",
        "print('Learning finished')"
      ]
    },
    {
      "cell_type": "markdown",
      "metadata": {
        "id": "8b0iesf8fHbN"
      },
      "source": [
        "## 성능 확인"
      ]
    },
    {
      "cell_type": "code",
      "execution_count": null,
      "metadata": {
        "id": "JxfuR2sbfHbN",
        "colab": {
          "base_uri": "https://localhost:8080/"
        },
        "outputId": "a4352abe-eb93-4c63-b3c7-67af507e946b"
      },
      "outputs": [
        {
          "output_type": "stream",
          "name": "stdout",
          "text": [
            "Accuracy: 0.5001000165939331\n"
          ]
        }
      ],
      "source": [
        "network = network.to('cpu')\n",
        "with torch.no_grad(): # test에서는 기울기 계산 제외\n",
        "\n",
        "  img_test = torch.tensor(np.transpose(cifar10_test.data, (0, 3, 1, 2)))/255.\n",
        "  label_test = torch.tensor(cifar10_test.targets)\n",
        "\n",
        "  prediction = network(img_test) # 전체 test data를 한번에 계산\n",
        "\n",
        "  correct_prediction = torch.argmax(prediction, 1) == label_test\n",
        "  accuracy = correct_prediction.float().mean()\n",
        "  print('Accuracy:', accuracy.item())"
      ]
    },
    {
      "cell_type": "markdown",
      "metadata": {
        "id": "nOCujlwh0TJw"
      },
      "source": [
        "## LeNet 모델 정의\n",
        "\n",
        "\n",
        "*   Convolution layer --> nn.Conv2d(in_channels, out_channels, kernel_size, stride, padding)\n",
        "*   Fully connected layer --> nn.Linear(in_features, out_features)\n",
        "*   Activation function (ReLU) --> nn.ReLU()\n",
        "*   Max pooling layer --> nn.MaxPool2d(kernel_size, stirde)\n",
        "*   Avg pooling layer --> nn.AvgPool2d(kernel_size, stride)\n",
        "\n"
      ]
    },
    {
      "cell_type": "code",
      "execution_count": null,
      "metadata": {
        "id": "S3LB6Iv-0U56"
      },
      "outputs": [],
      "source": [
        "class LeNet (nn.Module):\n",
        "  def __init__ (self):\n",
        "    super(LeNet, self).__init__()\n",
        "\n",
        "    '''\n",
        "    # relu\n",
        "    self.relu = nn.ReLU()\n",
        "\n",
        "    # pool\n",
        "    self.pool = nn.MaxPool2d(kernel_size=2, stride=2)\n",
        "\n",
        "    # cnn func\n",
        "    self.conv1 = nn.Conv2d(in_channels=3, out_channels=64, kernel_size=5, stride=1, padding=0)\n",
        "    self.conv2 = nn.Conv2d(in_channels=64, out_channels=16, kernel_size=5, stride=1, padding=0)\n",
        "\n",
        "    # mlp func\n",
        "    self.fc1 = nn.Linear(5*5*16, 120)\n",
        "    self.fc2 = nn.Linear(120, 84)\n",
        "    self.fc3 = nn.Linear(84, 10)\n",
        "    '''\n",
        "\n",
        "    # nn.Sequential - 함수들을 묶어서 그룹화\n",
        "    self.convolution_layer = nn.Sequential(\n",
        "        nn.Conv2d(in_channels=3, out_channels=64, kernel_size=5, stride=1, padding=0),\n",
        "        nn.ReLU(),\n",
        "        nn.MaxPool2d(kernel_size=2, stride=2),\n",
        "\n",
        "        nn.Conv2d(in_channels=64, out_channels=16, kernel_size=5, stride=1, padding=0),\n",
        "        nn.ReLU(),\n",
        "        nn.MaxPool2d(kernel_size=2, stride=2),\n",
        "    )\n",
        "\n",
        "    self.fully_layer(\n",
        "        nn.Linear(5*5*16, 120),\n",
        "        nn.ReLU(),\n",
        "\n",
        "        nn.Linear(120, 84),\n",
        "        nn.ReLU(),\n",
        "\n",
        "        nn.Linear(84, 10),\n",
        "    )\n",
        "\n",
        "  def forward(self, x):\n",
        "    '''\n",
        "    # cnn code\n",
        "    y = self.conv1(x)\n",
        "    y = self.relu(y)\n",
        "    y = self.pool(y)\n",
        "    y = self.conv2(y)\n",
        "    y = self.relu(y)\n",
        "    y = self.pool(y)\n",
        "    '''\n",
        "    y = self.convolution_layer(x)\n",
        "\n",
        "    # 평탄화\n",
        "    y = y.reshape(-1, 5*5*16)\n",
        "\n",
        "    '''\n",
        "    # mlp code\n",
        "    y = self.fc1(y)\n",
        "    y = self.relu(y)\n",
        "    y = self.fc2(y)\n",
        "    y = self.relu(y)\n",
        "    y = self.fc3(y)\n",
        "    '''\n",
        "    y = self.fully_layer(y)\n",
        "\n",
        "    return y"
      ]
    },
    {
      "cell_type": "markdown",
      "metadata": {
        "id": "ltAhcjO60b0x"
      },
      "source": [
        "## Hyper-parameters 지정"
      ]
    },
    {
      "cell_type": "code",
      "execution_count": null,
      "metadata": {
        "id": "r1INfQRt0eJm"
      },
      "outputs": [],
      "source": [
        "batch_size = 100\n",
        "learning_rate = 0.1\n",
        "training_epochs = 30\n",
        "loss_function = nn.CrossEntropyLoss()\n",
        "network = LeNet()\n",
        "optimizer = torch.optim.SGD(network.parameters(), lr = learning_rate)\n",
        "data_loader = DataLoader(dataset=cifar10_train,\n",
        "                         batch_size=batch_size,\n",
        "                         shuffle=True,\n",
        "                         drop_last=True)"
      ]
    },
    {
      "cell_type": "markdown",
      "metadata": {
        "id": "zfy95Byn0f1E"
      },
      "source": [
        "## Perceptron 학습을 위한 반복문 선언"
      ]
    },
    {
      "cell_type": "code",
      "execution_count": null,
      "metadata": {
        "id": "KEngtl0a0hFs",
        "colab": {
          "base_uri": "https://localhost:8080/"
        },
        "outputId": "06c6ecee-bfe2-41ea-a161-d93458610512"
      },
      "outputs": [
        {
          "output_type": "stream",
          "name": "stdout",
          "text": [
            "Epoch: 1 Loss = 2.098472\n",
            "Epoch: 2 Loss = 1.711049\n",
            "Epoch: 3 Loss = 1.513649\n",
            "Epoch: 4 Loss = 1.383399\n",
            "Epoch: 5 Loss = 1.290959\n",
            "Epoch: 6 Loss = 1.212080\n",
            "Epoch: 7 Loss = 1.146213\n",
            "Epoch: 8 Loss = 1.091796\n",
            "Epoch: 9 Loss = 1.035632\n",
            "Epoch: 10 Loss = 0.985102\n",
            "Epoch: 11 Loss = 0.941273\n",
            "Epoch: 12 Loss = 0.901970\n",
            "Epoch: 13 Loss = 0.860860\n",
            "Epoch: 14 Loss = 0.827841\n",
            "Epoch: 15 Loss = 0.796113\n",
            "Epoch: 16 Loss = 0.763656\n",
            "Epoch: 17 Loss = 0.738531\n",
            "Epoch: 18 Loss = 0.712672\n",
            "Epoch: 19 Loss = 0.691989\n",
            "Epoch: 20 Loss = 0.661195\n",
            "Epoch: 21 Loss = 0.639491\n",
            "Epoch: 22 Loss = 0.620370\n",
            "Epoch: 23 Loss = 0.597714\n",
            "Epoch: 24 Loss = 0.589503\n",
            "Epoch: 25 Loss = 0.555547\n",
            "Epoch: 26 Loss = 0.551529\n",
            "Epoch: 27 Loss = 0.521921\n",
            "Epoch: 28 Loss = 0.513975\n",
            "Epoch: 29 Loss = 0.490075\n",
            "Epoch: 30 Loss = 0.479188\n",
            "Learning finished\n"
          ]
        }
      ],
      "source": [
        "device = 'cpu'\n",
        "if torch.cuda.is_available():\n",
        "    device = 'cuda:0'\n",
        "\n",
        "network = network.to(device)\n",
        "for epoch in range(training_epochs):\n",
        "  avg_cost = 0\n",
        "  total_batch = len(data_loader)\n",
        "\n",
        "  for img, label in data_loader:\n",
        "\n",
        "    img = img.to(device)\n",
        "    label = label.to(device)\n",
        "\n",
        "    pred = network(img)\n",
        "\n",
        "    loss = loss_function(pred, label)\n",
        "    optimizer.zero_grad() # gradient 초기화\n",
        "    loss.backward()\n",
        "    optimizer.step()\n",
        "\n",
        "    avg_cost += loss / total_batch\n",
        "\n",
        "  print('Epoch: %d Loss = %f'%(epoch+1, avg_cost))\n",
        "\n",
        "print('Learning finished')"
      ]
    },
    {
      "cell_type": "markdown",
      "metadata": {
        "id": "7UeKYHAz1NdM"
      },
      "source": [
        "## 학습이 완료된 모델을 이용해 정답률 확인"
      ]
    },
    {
      "cell_type": "code",
      "execution_count": null,
      "metadata": {
        "id": "1AoZ9Dmh1Pxj",
        "colab": {
          "base_uri": "https://localhost:8080/"
        },
        "outputId": "2ac8c5d6-575e-4a5c-85e4-c9bbff93e28c"
      },
      "outputs": [
        {
          "output_type": "stream",
          "name": "stdout",
          "text": [
            "Accuracy: 0.6428999900817871\n"
          ]
        }
      ],
      "source": [
        "network = network.to('cpu')\n",
        "with torch.no_grad(): # test에서는 기울기 계산 제외\n",
        "\n",
        "  img_test = torch.tensor(np.transpose(cifar10_test.data, (0, 3, 1, 2)))/255.\n",
        "  label_test = torch.tensor(cifar10_test.targets)\n",
        "\n",
        "  prediction = network(img_test) # 전체 test data를 한번에 계산\n",
        "\n",
        "  correct_prediction = torch.argmax(prediction, 1) == label_test\n",
        "  accuracy = correct_prediction.float().mean()\n",
        "  print('Accuracy:', accuracy.item())"
      ]
    }
  ],
  "metadata": {
    "accelerator": "GPU",
    "colab": {
      "gpuType": "T4",
      "provenance": [],
      "include_colab_link": true
    },
    "kernelspec": {
      "display_name": "base",
      "language": "python",
      "name": "python3"
    },
    "language_info": {
      "codemirror_mode": {
        "name": "ipython",
        "version": 3
      },
      "file_extension": ".py",
      "mimetype": "text/x-python",
      "name": "python",
      "nbconvert_exporter": "python",
      "pygments_lexer": "ipython3",
      "version": "3.11.5"
    }
  },
  "nbformat": 4,
  "nbformat_minor": 0
}